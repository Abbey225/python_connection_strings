{
 "cells": [
  {
   "cell_type": "code",
   "execution_count": 19,
   "metadata": {
    "azdata_cell_guid": "0b7e48a7-ad21-42b0-870c-daba0fa40397",
    "language": "python",
    "tags": []
   },
   "outputs": [],
   "source": [
    "# Connection\n",
    "\n",
    "import pandas as pd\n",
    "from sqlalchemy import create_engine\n",
    "import getpass\n",
    "\n",
    "server = str(input(\"insert server: \"))\n",
    "database = str(input(\"insert database: \"))\n",
    "\n",
    "user_name = str(input(\"insert username: \"))\n",
    "password = getpass.getpass(\"insert password: \")"
   ]
  },
  {
   "cell_type": "code",
   "execution_count": 20,
   "metadata": {
    "azdata_cell_guid": "91262da7-5913-4958-8564-aaf6a74e7b2f",
    "language": "python"
   },
   "outputs": [
    {
     "name": "stdout",
     "output_type": "stream",
     "text": [
      "Connection to the datavault at 172.29.4.147 created successfully.\n"
     ]
    }
   ],
   "source": [
    "#Checks if the connection is successful or not\n",
    "if __name__ == '__main__':\n",
    "\ttry:\n",
    "\t\n",
    "\t\t#Creates the connection to the database\n",
    "\t\tengine = create_engine(f'mssql+pyodbc://{user_name}:{password}@{server}/{database}?driver=SQL+Server+Native+Client+11.0',fast_executemany=True)\n",
    "\t\tprint(f\"Connection to the {database} at {server} created successfully.\")\n",
    "\n",
    "\texcept Exception as ex:\n",
    "\t\tprint(\"Connection could not be made due to the following error: \\n\", ex)"
   ]
  },
  {
   "cell_type": "code",
   "execution_count": 21,
   "metadata": {
    "azdata_cell_guid": "101cc2af-fd0d-4390-aa51-2e9397046105",
    "language": "python"
   },
   "outputs": [],
   "source": [
    "## Query\n",
    "\n",
    "sql = \"\"\"\n",
    "declare @StartDate int = 20221101\n",
    "declare @EndDate int = 20221201\n",
    "\n",
    "SELECT card_acceptor_term_id [Card Acceptor Terminal Id], \n",
    "    card_acceptor_name_loc [Card Acceptor Name Location], \n",
    "    pan [Pan], \n",
    "    datetime_tran_local [Datetime Tran Local], \n",
    "    sink_node_name [Sink Node Name],  \n",
    "    from_account_id [From Account Id], \n",
    "    retrieval_reference_nr [Retrieval Reference Number],\n",
    "    stan [STAN],\n",
    "    amount_tran_final [Amount Tran Final]\n",
    "FROM [dbo].[actual_atm_cash_successful] a\n",
    "where udc_CreateDateKey >= @StartDate and udc_CreateDateKey <= @EndDate\n",
    "\n",
    "\"\"\"\n",
    "\n"
   ]
  },
  {
   "cell_type": "code",
   "execution_count": 22,
   "metadata": {
    "azdata_cell_guid": "b889e265-9e99-4586-ac45-b28b308e2477",
    "language": "python"
   },
   "outputs": [
    {
     "name": "stdout",
     "output_type": "stream",
     "text": [
      "CPU times: total: 3min 40s\n",
      "Wall time: 6min 8s\n"
     ]
    }
   ],
   "source": [
    "%%time\n",
    "df = pd.read_sql(sql,engine, chunksize=1000000)\n",
    "\n",
    "c = 1\n",
    "\n",
    "for a in df:\n",
    "    \n",
    "    a.to_csv(f'Actual_atm_cash_successful_Nov_to_Dec_1st_{c}.csv',index=False)\n",
    "    c = c + 1\n"
   ]
  }
 ],
 "metadata": {
  "kernelspec": {
   "display_name": "Python 3",
   "language": "python",
   "name": "python3"
  },
  "language_info": {
   "codemirror_mode": {
    "name": "ipython",
    "version": 3
   },
   "file_extension": ".py",
   "mimetype": "text/x-python",
   "name": "python",
   "nbconvert_exporter": "python",
   "pygments_lexer": "ipython3",
   "version": "3.8.8"
  }
 },
 "nbformat": 4,
 "nbformat_minor": 2
}
