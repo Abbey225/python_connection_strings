{
 "cells": [
  {
   "cell_type": "code",
   "execution_count": 1,
   "metadata": {
    "azdata_cell_guid": "b6677242-dfd7-4d9c-bed1-c20eec6f3a50",
    "language": "python"
   },
   "outputs": [],
   "source": [
    "# Connection\n",
    "import sqlalchemy as db\n",
    "import pandas as pd\n",
    "from sqlalchemy import create_engine\n",
    "import getpass\n",
    "\n",
    "server = str(input(\"insert server: \"))\n",
    "database = str(input(\"insert database: \"))\n",
    "\n",
    "user_name = str(input(\"insert username: \"))\n",
    "password = getpass.getpass(\"insert password: \")"
   ]
  },
  {
   "cell_type": "code",
   "execution_count": 2,
   "metadata": {
    "azdata_cell_guid": "d447763d-db12-4ba8-a6f0-08796988d4f8",
    "language": "python"
   },
   "outputs": [
    {
     "name": "stdout",
     "output_type": "stream",
     "text": [
      "Connection to the datavault at 172.29.4.147 created successfully.\n"
     ]
    }
   ],
   "source": [
    "#Checks if the connection is successful or not\n",
    "if __name__ == '__main__':\n",
    "\ttry:\n",
    "\t\n",
    "\t\t#Creates the connection to the database\n",
    "\t\tengine = create_engine(f'mssql+pyodbc://{user_name}:{password}@{server}/{database}?driver=SQL+Server+Native+Client+11.0',fast_executemany=True)\n",
    "\t\tprint(f\"Connection to the {database} at {server} created successfully.\")\n",
    "\n",
    "\texcept Exception as ex:\n",
    "\t\tprint(\"Connection could not be made due to the following error: \\n\", ex)"
   ]
  },
  {
   "cell_type": "code",
   "execution_count": 3,
   "metadata": {
    "azdata_cell_guid": "061f40c2-5b5f-4c30-a923-4bd45071f295",
    "language": "python"
   },
   "outputs": [
    {
     "name": "stdout",
     "output_type": "stream",
     "text": [
      "CPU times: total: 1min 13s\n",
      "Wall time: 27min 46s\n"
     ]
    }
   ],
   "source": [
    "%%time\n",
    "query = \"SET NOCOUNT ON; EXEC uspdst_GLActivity '01-001-1-23240', 5, '2022-12-02','2022-12-02'\"\n",
    "df = pd.read_sql_query(query, engine, chunksize=1000000)\n",
    "\n",
    "c = 1\n",
    "\n",
    "for a in df:\n",
    "    \n",
    "    a.to_csv(f'Gl_Activity_2022-12-2nd_{c}.csv',index=False)\n",
    "    c = c + 1"
   ]
  },
  {
   "cell_type": "code",
   "execution_count": null,
   "metadata": {
    "azdata_cell_guid": "76352802-b2b0-4fef-97c6-e461150577bc",
    "language": "python",
    "tags": []
   },
   "outputs": [],
   "source": [
    "%%time\n",
    "query = \"SET NOCOUNT ON; EXEC uspdst_GLActivity '01-001-1-23240', 5, '2022-12-03','2022-12-04'\"\n",
    "df = pd.read_sql_query(query, engine, chunksize=1000000)\n",
    "\n",
    "c = 1\n",
    "\n",
    "for a in df:\n",
    "    \n",
    "    a.to_csv(f'Gl_Activity_2022-12-3rd_to_4th_{c}.csv',index=False)\n",
    "    c = c + 1"
   ]
  },
  {
   "cell_type": "code",
   "execution_count": null,
   "metadata": {
    "azdata_cell_guid": "54caa6c2-347f-4084-9237-02a5dc42df90",
    "language": "python"
   },
   "outputs": [],
   "source": [
    "%%time\n",
    "query = \"SET NOCOUNT ON; EXEC uspdst_GLActivity '01-001-1-23240', 5, '2022-12-05','2022-12-05'\"\n",
    "df = pd.read_sql_query(query, engine, chunksize=1000000)\n",
    "\n",
    "c = 1\n",
    "\n",
    "for a in df:\n",
    "    \n",
    "    a.to_csv(f'Gl_Activity_2022-12-5th_{c}.csv',index=False)\n",
    "    c = c + 1"
   ]
  }
 ],
 "metadata": {
  "kernelspec": {
   "display_name": "Python 3",
   "language": "python",
   "name": "python3"
  },
  "language_info": {
   "codemirror_mode": {
    "name": "ipython",
    "version": 3
   },
   "file_extension": ".py",
   "mimetype": "text/x-python",
   "name": "python",
   "nbconvert_exporter": "python",
   "pygments_lexer": "ipython3",
   "version": "3.8.8"
  }
 },
 "nbformat": 4,
 "nbformat_minor": 2
}
