{
 "cells": [
  {
   "cell_type": "code",
   "execution_count": 1,
   "id": "d1da5691",
   "metadata": {},
   "outputs": [],
   "source": [
    "import pyodbc\n",
    "import pandas as pd\n",
    "import sqlalchemy as db\n",
    "import getpass"
   ]
  },
  {
   "cell_type": "code",
   "execution_count": 2,
   "id": "ba3f4f97",
   "metadata": {},
   "outputs": [
    {
     "name": "stdout",
     "output_type": "stream",
     "text": [
      "insert server: 172.20.4.90\n",
      "insert database: SSIS_Sam_Practice\n",
      "insert username: appsupport\n",
      "insert password: ········\n"
     ]
    }
   ],
   "source": [
    "server = str(input(\"insert server: \"))\n",
    "database = str(input(\"insert database: \"))\n",
    "user_name = str(input(\"insert username: \"))\n",
    "password = getpass.getpass(\"insert password: \")"
   ]
  },
  {
   "cell_type": "code",
   "execution_count": 3,
   "id": "bc048d44",
   "metadata": {},
   "outputs": [
    {
     "name": "stdout",
     "output_type": "stream",
     "text": [
      "Connection to the SSIS_Sam_Practice at 172.20.4.90 created successfully.\n"
     ]
    }
   ],
   "source": [
    "#Checks if the connection is successful or not\n",
    "if __name__ == '__main__':\n",
    "\ttry:\n",
    "\t\n",
    "\t\t#Creates the connection to the database\n",
    "\t\tengine = db.create_engine(f'mssql+pyodbc://{user_name}:{password}@{server}/{database}?driver=SQL+Server+Native+Client+11.0',fast_executemany=True)\n",
    "\t\tprint(f\"Connection to the {database} at {server} created successfully.\")\n",
    "\n",
    "\texcept Exception as ex:\n",
    "\t\tprint(\"Connection could not be made due to the following error: \\n\", ex)"
   ]
  },
  {
   "cell_type": "markdown",
   "id": "369a628d",
   "metadata": {},
   "source": [
    "## Define the folder where all csv files are kept"
   ]
  },
  {
   "cell_type": "code",
   "execution_count": 4,
   "id": "bf2d85ed",
   "metadata": {},
   "outputs": [],
   "source": [
    "import os\n",
    "import glob\n",
    "import chardet\n",
    "\n",
    "foldername = 'C:\\\\Users\\\\samuel.ojo2\\\\Documents\\\\Python scripts\\\\2019\\\\'\n",
    "\n",
    "#File extension\n",
    "extension = 'csv'\n",
    "os.chdir(foldername)\n",
    "all_filenames = [i for i in glob.glob('*.{}'.format(extension))]"
   ]
  },
  {
   "cell_type": "markdown",
   "id": "cde38219",
   "metadata": {},
   "source": [
    "## Reads through each and every CSV file"
   ]
  },
  {
   "cell_type": "code",
   "execution_count": null,
   "id": "b324ee02",
   "metadata": {},
   "outputs": [],
   "source": [
    "%%time\n",
    "for i in range(len(all_filenames)):\n",
    "    with open(all_filenames[i], 'rb') as f:\n",
    "        result = chardet.detect(f.read())\n",
    "        #df = pd.read_csv(all_filenames[i], encoding = result ['encoding'],chunksize=100000)\n"
   ]
  },
  {
   "cell_type": "code",
   "execution_count": 19,
   "id": "5a601496",
   "metadata": {},
   "outputs": [],
   "source": [
    "for a in all_filenames:\n",
    "    df = pd.read_csv(f'{a}',chunksize= 100000)\n",
    "    for a in df:\n",
    "        a.to_sql('gl_2019', con = engine, index = False, if_exists = 'append',schema = 'dbo')"
   ]
  },
  {
   "cell_type": "code",
   "execution_count": null,
   "id": "9d6af638",
   "metadata": {},
   "outputs": [],
   "source": []
  }
 ],
 "metadata": {
  "kernelspec": {
   "display_name": "Python 3",
   "language": "python",
   "name": "python3"
  },
  "language_info": {
   "codemirror_mode": {
    "name": "ipython",
    "version": 3
   },
   "file_extension": ".py",
   "mimetype": "text/x-python",
   "name": "python",
   "nbconvert_exporter": "python",
   "pygments_lexer": "ipython3",
   "version": "3.8.8"
  }
 },
 "nbformat": 4,
 "nbformat_minor": 5
}
